{
 "cells": [
  {
   "cell_type": "markdown",
   "source": [
    "# 检查是否溢流\n",
    "使用全井的数据检测，也就是混合检查吧，提取80%的训练数据，然后提取20的测试数据"
   ],
   "metadata": {
    "collapsed": false
   },
   "id": "f498e0394c293a88"
  },
  {
   "cell_type": "code",
   "execution_count": 1,
   "id": "initial_id",
   "metadata": {
    "collapsed": true,
    "ExecuteTime": {
     "end_time": "2023-11-13T06:16:35.036250700Z",
     "start_time": "2023-11-13T06:16:20.190497Z"
    }
   },
   "outputs": [],
   "source": [
    "import random\n",
    "import time\n",
    "import datetime\n",
    "import pandas as pd\n",
    "from Intelligent_well_control.src.models.utils.save_to_csv import SaveToCsv\n",
    "from Intelligent_well_control.src.models.LGBM import LGBModel\n",
    "from sklearn.preprocessing import StandardScaler, MinMaxScaler\n",
    "from sklearn.metrics import accuracy_score"
   ]
  },
  {
   "cell_type": "code",
   "execution_count": null,
   "outputs": [],
   "source": [],
   "metadata": {
    "collapsed": false
   },
   "id": "e7a09ecf2ec3ebab"
  }
 ],
 "metadata": {
  "kernelspec": {
   "display_name": "Python 3",
   "language": "python",
   "name": "python3"
  },
  "language_info": {
   "codemirror_mode": {
    "name": "ipython",
    "version": 2
   },
   "file_extension": ".py",
   "mimetype": "text/x-python",
   "name": "python",
   "nbconvert_exporter": "python",
   "pygments_lexer": "ipython2",
   "version": "2.7.6"
  }
 },
 "nbformat": 4,
 "nbformat_minor": 5
}
