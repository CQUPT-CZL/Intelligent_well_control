{
 "cells": [
  {
   "cell_type": "markdown",
   "source": [
    "测试一下数据是否可以分段读入，以及这样的模型性能如何"
   ],
   "metadata": {
    "collapsed": false
   },
   "id": "9948046602f4ff91"
  },
  {
   "cell_type": "code",
   "execution_count": 1,
   "id": "initial_id",
   "metadata": {
    "collapsed": true,
    "ExecuteTime": {
     "end_time": "2023-11-29T09:12:29.718827600Z",
     "start_time": "2023-11-29T09:12:19.348846Z"
    }
   },
   "outputs": [],
   "source": [
    "import pandas as pd\n",
    "import lightgbm as lgb"
   ]
  },
  {
   "cell_type": "code",
   "execution_count": 2,
   "outputs": [],
   "source": [
    "def csv_generator(filename, chunksize):\n",
    "    for chunk in pd.read_csv(filename, chunksize=chunksize, header=None):\n",
    "        yield chunk"
   ],
   "metadata": {
    "collapsed": false,
    "ExecuteTime": {
     "end_time": "2023-11-29T09:12:29.740738900Z",
     "start_time": "2023-11-29T09:12:29.720798500Z"
    }
   },
   "id": "621c8d9c121cd4dc"
  },
  {
   "cell_type": "code",
   "execution_count": 4,
   "outputs": [],
   "source": [
    "# 模型训练\n",
    "params = {...}  # 设置模型参数\n",
    "train_data_file = r'E:\\data\\压井\\新数据\\间接数据\\一半总数据2.csv'  # 替换为你的文件路径\n",
    "num_round = 100  # 设置迭代轮数\n",
    "batch_size = 10000  # 设置批次大小\n",
    "# 初始化数据生成器\n"
   ],
   "metadata": {
    "collapsed": false,
    "ExecuteTime": {
     "end_time": "2023-11-29T09:13:15.178074200Z",
     "start_time": "2023-11-29T09:13:15.162088Z"
    }
   },
   "id": "2ea502e4c3a2bfdd"
  },
  {
   "cell_type": "code",
   "execution_count": 5,
   "outputs": [],
   "source": [
    "# 初始化数据生成器\n",
    "generator = csv_generator(train_data_file, batch_size)"
   ],
   "metadata": {
    "collapsed": false,
    "ExecuteTime": {
     "end_time": "2023-11-29T09:13:15.818306600Z",
     "start_time": "2023-11-29T09:13:15.792422900Z"
    }
   },
   "id": "71097bce58fb68df"
  },
  {
   "cell_type": "code",
   "execution_count": 19,
   "outputs": [
    {
     "name": "stderr",
     "output_type": "stream",
     "text": [
      "C:\\Users\\admin\\AppData\\Local\\Temp\\ipykernel_20516\\3703814307.py:2: DtypeWarning: Columns (0,1,3,4,5,6,7,8,9,10,11,12,13,14,15,16,17,18,19,20,21,22,23,24,25,26,27,28,29,30,31,32,33,34,35,36,37,38,39,40,41,42,43,44,45,46,47,48,49,50,51,52,53,54,55,56,57,58,59,60,61,62,63,64,65,66,67,68,69,70,71,72,73,74,75,76,77,78,79,80,81,82,83,84,85,86,87,88,89,90,91,92,93,94,95,96,97,98,99,100,101,102,103,104,105,106,107,108,109,110,111,112,113,114,115,116,117,118,119,120,121,122,123,124,125,126,127,128,129,130,131,132,133,134,135,136,137,138,139,140,141,142,143,144,145,146,147,148,149,150,151,152,153,154,155,156,157,158,159,160,161,162,163,164,165,166,167,168,169,170,171,172,173,174,175,176,177,178,179,180,181,182,183,184,185,186,187,188,189,190,191,192,193,194,195,196,197,198,199,200,201,202,203,204,205,206,207,208,209,210,211,212,213,214,215,216,217,218,219,220,221,222,223,224,225,226,227,228,229,230,231,232,233,234,235,236,237,238,239,240,241,242,243,244,245,246,247,248,249,250,251,252,253,254,255,256,257,258,259,260,261,262,263,264,265,266,267,268,269,270,271,272,273,274,275,276,277,278,279,280,281,282,283,284,285,286,287,288,289,290,291,292,293,294,295,296,297,298,299,300,301,302,303,304,305,306,307,308,309,310,311,312,313,314,315,316,317,318,319,320,321,322,323,324,325,326,327,328,329,330,331,332,333,334,335,336,337,338,339,340,341,342,343,344,345,346,347,348,349,350,351,352,353,354,355,356,357,358,359,360,361,362,363,364,365,366,367,368,369,370,371,372,373,374,375,376,377,378,379,380,381,382,383) have mixed types. Specify dtype option on import or set low_memory=False.\n",
      "  for chunk in pd.read_csv(filename, chunksize=chunksize, header=None):\n"
     ]
    }
   ],
   "source": [
    "# 第一批数据\n",
    "first_batch = next(generator)"
   ],
   "metadata": {
    "collapsed": false,
    "ExecuteTime": {
     "end_time": "2023-11-29T06:39:09.435159800Z",
     "start_time": "2023-11-29T06:39:09.093754200Z"
    }
   },
   "id": "33027dfabed89064"
  },
  {
   "cell_type": "code",
   "execution_count": 20,
   "outputs": [
    {
     "data": {
      "text/plain": "        0        1                    2                    3    \\\n0        id  well_id                 time  standard_well_depth   \n1         1        5  2023-04-08 01:00:00               4500.0   \n2         3        5  2023-04-08 01:00:12               4500.0   \n3         5        5  2023-04-08 01:00:24               4500.0   \n4         7        5  2023-04-08 01:00:36               4500.0   \n...     ...      ...                  ...                  ...   \n9995  19990        5  2023-04-09 10:53:12               4500.0   \n9996  19992        5  2023-04-09 10:53:24               4500.0   \n9997  19994        5  2023-04-09 10:53:36               4500.0   \n9998  19996        5  2023-04-09 10:53:48               4500.0   \n9999  19998        5  2023-04-09 10:54:00               4500.0   \n\n                      4                 5         6          7           8    \\\n0     vertical_well_depth  bottoms_up_depth  lag_time  bit_depth  drill_time   \n1                     0.0            4500.0       0.0    3058.79       19.26   \n2                     0.0            4500.0       0.0     3058.5       19.26   \n3                     0.0            4500.0       0.0    3056.98       19.26   \n4                     0.0            4500.0       0.0    3056.41       19.26   \n...                   ...               ...       ...        ...         ...   \n9995                  0.0            4500.0       0.0    4446.47       19.26   \n9996                  0.0            4500.0       0.0    4445.83       19.26   \n9997                  0.0            4500.0       0.0    4445.42       19.26   \n9998                  0.0            4500.0       0.0    4446.44       19.26   \n9999                  0.0            4500.0       0.0    4446.75       19.26   \n\n              9    ...             374           375               376  \\\n0     drill_speed  ...  pressure_level  deal_density  density_category   \n1             0.0  ...            70.0           1.9               2.0   \n2             0.0  ...            70.0           1.9               2.0   \n3             0.0  ...            70.0           1.9               2.0   \n4             0.0  ...            70.0           1.9               2.0   \n...           ...  ...             ...           ...               ...   \n9995          0.0  ...            70.0           1.9               2.0   \n9996          0.0  ...            70.0           1.9               2.0   \n9997          0.0  ...            70.0           1.9               2.0   \n9998          0.0  ...            70.0           1.9               2.0   \n9999          0.0  ...            70.0           1.9               2.0   \n\n                      377                   378                379  \\\n0     riser_pipe_pressure  casing_pipe_pressure  overflow_capacity   \n1                     0.0                   2.7                0.1   \n2                     0.0                   2.7                0.1   \n3                     0.0                   2.7                0.1   \n4                     0.0                   2.7                0.1   \n...                   ...                   ...                ...   \n9995                  0.0                   2.7                0.1   \n9996                  0.0                   2.7                0.1   \n9997                  0.0                   2.7                0.1   \n9998                  0.0                   2.7                0.1   \n9999                  0.0                   2.7                0.1   \n\n               380               381                 382  \\\n0     invader_type  kill_main_method  deal_duration_hour   \n1              3.0               1.0                 6.0   \n2              3.0               1.0                 6.0   \n3              3.0               1.0                 6.0   \n4              3.0               1.0                 6.0   \n...            ...               ...                 ...   \n9995           3.0               1.0                 6.0   \n9996           3.0               1.0                 6.0   \n9997           3.0               1.0                 6.0   \n9998           3.0               1.0                 6.0   \n9999           3.0               1.0                 6.0   \n\n                          383  \n0     report_to_group_company  \n1                         2.0  \n2                         2.0  \n3                         2.0  \n4                         2.0  \n...                       ...  \n9995                      2.0  \n9996                      2.0  \n9997                      2.0  \n9998                      2.0  \n9999                      2.0  \n\n[10000 rows x 384 columns]",
      "text/html": "<div>\n<style scoped>\n    .dataframe tbody tr th:only-of-type {\n        vertical-align: middle;\n    }\n\n    .dataframe tbody tr th {\n        vertical-align: top;\n    }\n\n    .dataframe thead th {\n        text-align: right;\n    }\n</style>\n<table border=\"1\" class=\"dataframe\">\n  <thead>\n    <tr style=\"text-align: right;\">\n      <th></th>\n      <th>0</th>\n      <th>1</th>\n      <th>2</th>\n      <th>3</th>\n      <th>4</th>\n      <th>5</th>\n      <th>6</th>\n      <th>7</th>\n      <th>8</th>\n      <th>9</th>\n      <th>...</th>\n      <th>374</th>\n      <th>375</th>\n      <th>376</th>\n      <th>377</th>\n      <th>378</th>\n      <th>379</th>\n      <th>380</th>\n      <th>381</th>\n      <th>382</th>\n      <th>383</th>\n    </tr>\n  </thead>\n  <tbody>\n    <tr>\n      <th>0</th>\n      <td>id</td>\n      <td>well_id</td>\n      <td>time</td>\n      <td>standard_well_depth</td>\n      <td>vertical_well_depth</td>\n      <td>bottoms_up_depth</td>\n      <td>lag_time</td>\n      <td>bit_depth</td>\n      <td>drill_time</td>\n      <td>drill_speed</td>\n      <td>...</td>\n      <td>pressure_level</td>\n      <td>deal_density</td>\n      <td>density_category</td>\n      <td>riser_pipe_pressure</td>\n      <td>casing_pipe_pressure</td>\n      <td>overflow_capacity</td>\n      <td>invader_type</td>\n      <td>kill_main_method</td>\n      <td>deal_duration_hour</td>\n      <td>report_to_group_company</td>\n    </tr>\n    <tr>\n      <th>1</th>\n      <td>1</td>\n      <td>5</td>\n      <td>2023-04-08 01:00:00</td>\n      <td>4500.0</td>\n      <td>0.0</td>\n      <td>4500.0</td>\n      <td>0.0</td>\n      <td>3058.79</td>\n      <td>19.26</td>\n      <td>0.0</td>\n      <td>...</td>\n      <td>70.0</td>\n      <td>1.9</td>\n      <td>2.0</td>\n      <td>0.0</td>\n      <td>2.7</td>\n      <td>0.1</td>\n      <td>3.0</td>\n      <td>1.0</td>\n      <td>6.0</td>\n      <td>2.0</td>\n    </tr>\n    <tr>\n      <th>2</th>\n      <td>3</td>\n      <td>5</td>\n      <td>2023-04-08 01:00:12</td>\n      <td>4500.0</td>\n      <td>0.0</td>\n      <td>4500.0</td>\n      <td>0.0</td>\n      <td>3058.5</td>\n      <td>19.26</td>\n      <td>0.0</td>\n      <td>...</td>\n      <td>70.0</td>\n      <td>1.9</td>\n      <td>2.0</td>\n      <td>0.0</td>\n      <td>2.7</td>\n      <td>0.1</td>\n      <td>3.0</td>\n      <td>1.0</td>\n      <td>6.0</td>\n      <td>2.0</td>\n    </tr>\n    <tr>\n      <th>3</th>\n      <td>5</td>\n      <td>5</td>\n      <td>2023-04-08 01:00:24</td>\n      <td>4500.0</td>\n      <td>0.0</td>\n      <td>4500.0</td>\n      <td>0.0</td>\n      <td>3056.98</td>\n      <td>19.26</td>\n      <td>0.0</td>\n      <td>...</td>\n      <td>70.0</td>\n      <td>1.9</td>\n      <td>2.0</td>\n      <td>0.0</td>\n      <td>2.7</td>\n      <td>0.1</td>\n      <td>3.0</td>\n      <td>1.0</td>\n      <td>6.0</td>\n      <td>2.0</td>\n    </tr>\n    <tr>\n      <th>4</th>\n      <td>7</td>\n      <td>5</td>\n      <td>2023-04-08 01:00:36</td>\n      <td>4500.0</td>\n      <td>0.0</td>\n      <td>4500.0</td>\n      <td>0.0</td>\n      <td>3056.41</td>\n      <td>19.26</td>\n      <td>0.0</td>\n      <td>...</td>\n      <td>70.0</td>\n      <td>1.9</td>\n      <td>2.0</td>\n      <td>0.0</td>\n      <td>2.7</td>\n      <td>0.1</td>\n      <td>3.0</td>\n      <td>1.0</td>\n      <td>6.0</td>\n      <td>2.0</td>\n    </tr>\n    <tr>\n      <th>...</th>\n      <td>...</td>\n      <td>...</td>\n      <td>...</td>\n      <td>...</td>\n      <td>...</td>\n      <td>...</td>\n      <td>...</td>\n      <td>...</td>\n      <td>...</td>\n      <td>...</td>\n      <td>...</td>\n      <td>...</td>\n      <td>...</td>\n      <td>...</td>\n      <td>...</td>\n      <td>...</td>\n      <td>...</td>\n      <td>...</td>\n      <td>...</td>\n      <td>...</td>\n      <td>...</td>\n    </tr>\n    <tr>\n      <th>9995</th>\n      <td>19990</td>\n      <td>5</td>\n      <td>2023-04-09 10:53:12</td>\n      <td>4500.0</td>\n      <td>0.0</td>\n      <td>4500.0</td>\n      <td>0.0</td>\n      <td>4446.47</td>\n      <td>19.26</td>\n      <td>0.0</td>\n      <td>...</td>\n      <td>70.0</td>\n      <td>1.9</td>\n      <td>2.0</td>\n      <td>0.0</td>\n      <td>2.7</td>\n      <td>0.1</td>\n      <td>3.0</td>\n      <td>1.0</td>\n      <td>6.0</td>\n      <td>2.0</td>\n    </tr>\n    <tr>\n      <th>9996</th>\n      <td>19992</td>\n      <td>5</td>\n      <td>2023-04-09 10:53:24</td>\n      <td>4500.0</td>\n      <td>0.0</td>\n      <td>4500.0</td>\n      <td>0.0</td>\n      <td>4445.83</td>\n      <td>19.26</td>\n      <td>0.0</td>\n      <td>...</td>\n      <td>70.0</td>\n      <td>1.9</td>\n      <td>2.0</td>\n      <td>0.0</td>\n      <td>2.7</td>\n      <td>0.1</td>\n      <td>3.0</td>\n      <td>1.0</td>\n      <td>6.0</td>\n      <td>2.0</td>\n    </tr>\n    <tr>\n      <th>9997</th>\n      <td>19994</td>\n      <td>5</td>\n      <td>2023-04-09 10:53:36</td>\n      <td>4500.0</td>\n      <td>0.0</td>\n      <td>4500.0</td>\n      <td>0.0</td>\n      <td>4445.42</td>\n      <td>19.26</td>\n      <td>0.0</td>\n      <td>...</td>\n      <td>70.0</td>\n      <td>1.9</td>\n      <td>2.0</td>\n      <td>0.0</td>\n      <td>2.7</td>\n      <td>0.1</td>\n      <td>3.0</td>\n      <td>1.0</td>\n      <td>6.0</td>\n      <td>2.0</td>\n    </tr>\n    <tr>\n      <th>9998</th>\n      <td>19996</td>\n      <td>5</td>\n      <td>2023-04-09 10:53:48</td>\n      <td>4500.0</td>\n      <td>0.0</td>\n      <td>4500.0</td>\n      <td>0.0</td>\n      <td>4446.44</td>\n      <td>19.26</td>\n      <td>0.0</td>\n      <td>...</td>\n      <td>70.0</td>\n      <td>1.9</td>\n      <td>2.0</td>\n      <td>0.0</td>\n      <td>2.7</td>\n      <td>0.1</td>\n      <td>3.0</td>\n      <td>1.0</td>\n      <td>6.0</td>\n      <td>2.0</td>\n    </tr>\n    <tr>\n      <th>9999</th>\n      <td>19998</td>\n      <td>5</td>\n      <td>2023-04-09 10:54:00</td>\n      <td>4500.0</td>\n      <td>0.0</td>\n      <td>4500.0</td>\n      <td>0.0</td>\n      <td>4446.75</td>\n      <td>19.26</td>\n      <td>0.0</td>\n      <td>...</td>\n      <td>70.0</td>\n      <td>1.9</td>\n      <td>2.0</td>\n      <td>0.0</td>\n      <td>2.7</td>\n      <td>0.1</td>\n      <td>3.0</td>\n      <td>1.0</td>\n      <td>6.0</td>\n      <td>2.0</td>\n    </tr>\n  </tbody>\n</table>\n<p>10000 rows × 384 columns</p>\n</div>"
     },
     "execution_count": 20,
     "metadata": {},
     "output_type": "execute_result"
    }
   ],
   "source": [
    "first_batch"
   ],
   "metadata": {
    "collapsed": false,
    "ExecuteTime": {
     "end_time": "2023-11-29T06:39:09.509554700Z",
     "start_time": "2023-11-29T06:39:09.433151700Z"
    }
   },
   "id": "87a6d34afb300f36"
  },
  {
   "cell_type": "code",
   "execution_count": 21,
   "outputs": [
    {
     "data": {
      "text/plain": "(10000, 384)"
     },
     "execution_count": 21,
     "metadata": {},
     "output_type": "execute_result"
    }
   ],
   "source": [
    "first_batch.shape"
   ],
   "metadata": {
    "collapsed": false,
    "ExecuteTime": {
     "end_time": "2023-11-29T06:39:13.526338200Z",
     "start_time": "2023-11-29T06:39:13.509382800Z"
    }
   },
   "id": "3e96e3f58a9eaba1"
  },
  {
   "cell_type": "code",
   "execution_count": 6,
   "outputs": [
    {
     "name": "stderr",
     "output_type": "stream",
     "text": [
      "C:\\Users\\admin\\AppData\\Local\\Temp\\ipykernel_20192\\3703814307.py:2: DtypeWarning: Columns (0,1,3,4,5,6,7,8,9,10,11,12,13,14,15,16,17,18,19,20,21,22,23,24,25,26,27,28,29,30,31,32,33,34,35,36,37,38,39,40,41,42,43,44,45,46,47,48,49,50,51,52,53,54,55,56,57,58,59,60,61,62,63,64,65,66,67,68,69,70,71,72,73,74,75,76,77,78,79,80,81,82,83,84,85,86,87,88,89,90,91,92,93,94,95,96,97,98,99,100,101,102,103,104,105,106,107,108,109,110,111,112,113,114,115,116,117,118,119,120,121,122,123,124,125,126,127,128,129,130,131,132,133,134,135,136,137,138,139,140,141,142,143,144,145,146,147,148,149,150,151,152,153,154,155,156,157,158,159,160,161,162,163,164,165,166,167,168,169,170,171,172,173,174,175,176,177,178,179,180,181,182,183,184,185,186,187,188,189,190,191,192,193,194,195,196,197,198,199,200,201,202,203,204,205,206,207,208,209,210,211,212,213,214,215,216,217,218,219,220,221,222,223,224,225,226,227,228,229,230,231,232,233,234,235,236,237,238,239,240,241,242,243,244,245,246,247,248,249,250,251,252,253,254,255,256,257,258,259,260,261,262,263,264,265,266,267,268,269,270,271,272,273,274,275,276,277,278,279,280,281,282,283,284,285,286,287,288,289,290,291,292,293,294,295,296,297,298,299,300,301,302,303,304,305,306,307,308,309,310,311,312,313,314,315,316,317,318,319,320,321,322,323,324,325,326,327,328,329,330,331,332,333,334,335,336,337,338,339,340,341,342,343,344,345,346,347,348,349,350,351,352,353,354,355,356,357,358,359,360,361,362,363,364,365,366,367,368,369,370,371,372,373,374,375,376,377,378,379,380,381,382,383) have mixed types. Specify dtype option on import or set low_memory=False.\n",
      "  for chunk in pd.read_csv(filename, chunksize=chunksize, header=None):\n"
     ]
    },
    {
     "name": "stdout",
     "output_type": "stream",
     "text": [
      "(10000, 384)\n",
      "(10000, 384)\n",
      "(10000, 384)\n",
      "(10000, 384)\n",
      "(10000, 384)\n",
      "(10000, 384)\n",
      "(10000, 384)\n",
      "(10000, 384)\n",
      "(10000, 384)\n",
      "(10000, 384)\n",
      "(10000, 384)\n",
      "(10000, 384)\n",
      "(10000, 384)\n",
      "(10000, 384)\n",
      "(10000, 384)\n",
      "(10000, 384)\n",
      "(10000, 384)\n",
      "(10000, 384)\n",
      "(10000, 384)\n",
      "(10000, 384)\n",
      "(10000, 384)\n",
      "(10000, 384)\n",
      "(10000, 384)\n",
      "(10000, 384)\n",
      "(10000, 384)\n",
      "(10000, 384)\n",
      "(10000, 384)\n",
      "(10000, 384)\n",
      "(10000, 384)\n",
      "(10000, 384)\n",
      "(10000, 384)\n",
      "(10000, 384)\n",
      "(10000, 384)\n",
      "(10000, 384)\n",
      "(10000, 384)\n",
      "(10000, 384)\n",
      "(10000, 384)\n",
      "(10000, 384)\n",
      "(10000, 384)\n",
      "(10000, 384)\n",
      "(10000, 384)\n",
      "(10000, 384)\n",
      "(10000, 384)\n",
      "(10000, 384)\n",
      "(10000, 384)\n",
      "(10000, 384)\n",
      "(10000, 384)\n",
      "(10000, 384)\n",
      "(10000, 384)\n",
      "(10000, 384)\n",
      "(10000, 384)\n",
      "(10000, 384)\n",
      "(10000, 384)\n",
      "(10000, 384)\n",
      "(10000, 384)\n",
      "(10000, 384)\n",
      "(10000, 384)\n",
      "(10000, 384)\n",
      "(10000, 384)\n",
      "(10000, 384)\n",
      "(10000, 384)\n",
      "(10000, 384)\n",
      "(10000, 384)\n",
      "(10000, 384)\n",
      "(10000, 384)\n",
      "(10000, 384)\n",
      "(10000, 384)\n",
      "(10000, 384)\n",
      "(10000, 384)\n",
      "(10000, 384)\n",
      "(10000, 384)\n",
      "(10000, 384)\n",
      "(10000, 384)\n",
      "(10000, 384)\n",
      "(10000, 384)\n",
      "(10000, 384)\n",
      "(10000, 384)\n",
      "(10000, 384)\n",
      "(10000, 384)\n",
      "(10000, 384)\n",
      "(10000, 384)\n",
      "(10000, 384)\n",
      "(10000, 384)\n",
      "(10000, 384)\n",
      "(10000, 384)\n",
      "(10000, 384)\n",
      "(10000, 384)\n",
      "(10000, 384)\n",
      "(10000, 384)\n",
      "(10000, 384)\n",
      "(10000, 384)\n",
      "(10000, 384)\n",
      "(10000, 384)\n",
      "(10000, 384)\n",
      "(10000, 384)\n",
      "(10000, 384)\n",
      "(10000, 384)\n",
      "(10000, 384)\n",
      "(10000, 384)\n",
      "(10000, 384)\n",
      "(10000, 384)\n",
      "(10000, 384)\n",
      "(10000, 384)\n",
      "(10000, 384)\n",
      "(10000, 384)\n",
      "(2945, 384)\n"
     ]
    }
   ],
   "source": [
    "for batch in generator:\n",
    "    # train_data = lgb.Dataset(batch.drop('target_column', axis=1), label=batch['target_column'])\n",
    "    # model.update(train_data)\n",
    "    print(batch.shape)"
   ],
   "metadata": {
    "collapsed": false,
    "ExecuteTime": {
     "end_time": "2023-11-29T09:13:48.614572700Z",
     "start_time": "2023-11-29T09:13:20.414691700Z"
    }
   },
   "id": "1155ca1af047bb3a"
  },
  {
   "cell_type": "code",
   "execution_count": 25,
   "outputs": [],
   "source": [
    "data = pd.read_csv(r'E:\\data\\压井\\新数据\\间接数据\\一半总数据2.csv', usecols=['well_id'])"
   ],
   "metadata": {
    "collapsed": false,
    "ExecuteTime": {
     "end_time": "2023-11-29T09:00:10.239640Z",
     "start_time": "2023-11-29T08:59:59.647219700Z"
    }
   },
   "id": "b616207faa7b5e03"
  },
  {
   "cell_type": "code",
   "execution_count": 26,
   "outputs": [
    {
     "data": {
      "text/plain": "         well_id\n0              5\n1              5\n2              5\n3              5\n4              5\n...          ...\n1052939       94\n1052940       94\n1052941       94\n1052942       94\n1052943       94\n\n[1052944 rows x 1 columns]",
      "text/html": "<div>\n<style scoped>\n    .dataframe tbody tr th:only-of-type {\n        vertical-align: middle;\n    }\n\n    .dataframe tbody tr th {\n        vertical-align: top;\n    }\n\n    .dataframe thead th {\n        text-align: right;\n    }\n</style>\n<table border=\"1\" class=\"dataframe\">\n  <thead>\n    <tr style=\"text-align: right;\">\n      <th></th>\n      <th>well_id</th>\n    </tr>\n  </thead>\n  <tbody>\n    <tr>\n      <th>0</th>\n      <td>5</td>\n    </tr>\n    <tr>\n      <th>1</th>\n      <td>5</td>\n    </tr>\n    <tr>\n      <th>2</th>\n      <td>5</td>\n    </tr>\n    <tr>\n      <th>3</th>\n      <td>5</td>\n    </tr>\n    <tr>\n      <th>4</th>\n      <td>5</td>\n    </tr>\n    <tr>\n      <th>...</th>\n      <td>...</td>\n    </tr>\n    <tr>\n      <th>1052939</th>\n      <td>94</td>\n    </tr>\n    <tr>\n      <th>1052940</th>\n      <td>94</td>\n    </tr>\n    <tr>\n      <th>1052941</th>\n      <td>94</td>\n    </tr>\n    <tr>\n      <th>1052942</th>\n      <td>94</td>\n    </tr>\n    <tr>\n      <th>1052943</th>\n      <td>94</td>\n    </tr>\n  </tbody>\n</table>\n<p>1052944 rows × 1 columns</p>\n</div>"
     },
     "execution_count": 26,
     "metadata": {},
     "output_type": "execute_result"
    }
   ],
   "source": [
    "data"
   ],
   "metadata": {
    "collapsed": false,
    "ExecuteTime": {
     "end_time": "2023-11-29T09:00:26.677819400Z",
     "start_time": "2023-11-29T09:00:26.636763400Z"
    }
   },
   "id": "3a42e65674d55543"
  },
  {
   "cell_type": "code",
   "execution_count": 27,
   "outputs": [
    {
     "data": {
      "text/plain": "[5,\n 6,\n 4,\n 9,\n 11,\n 16,\n 18,\n 19,\n 21,\n 27,\n 28,\n 7,\n 8,\n 13,\n 14,\n 17,\n 32,\n 33,\n 36,\n 37,\n 38,\n 40,\n 46,\n 49,\n 50,\n 52,\n 54,\n 55,\n 56,\n 57,\n 58,\n 60,\n 61,\n 62,\n 65,\n 63,\n 2,\n 23,\n 70,\n 71,\n 104,\n 74,\n 77,\n 78,\n 80,\n 84,\n 85,\n 86,\n 90,\n 95,\n 97,\n 99,\n 100,\n 101,\n 105,\n 107,\n 108,\n 110,\n 112,\n 75,\n 111,\n 94]"
     },
     "execution_count": 27,
     "metadata": {},
     "output_type": "execute_result"
    }
   ],
   "source": [
    "data['well_id'].unique().tolist()"
   ],
   "metadata": {
    "collapsed": false,
    "ExecuteTime": {
     "end_time": "2023-11-29T09:00:41.897584400Z",
     "start_time": "2023-11-29T09:00:41.830626900Z"
    }
   },
   "id": "a0e89d60eef4012a"
  },
  {
   "cell_type": "code",
   "execution_count": null,
   "outputs": [],
   "source": [],
   "metadata": {
    "collapsed": false
   },
   "id": "3cb4828c5b33cc60"
  }
 ],
 "metadata": {
  "kernelspec": {
   "display_name": "Python 3",
   "language": "python",
   "name": "python3"
  },
  "language_info": {
   "codemirror_mode": {
    "name": "ipython",
    "version": 2
   },
   "file_extension": ".py",
   "mimetype": "text/x-python",
   "name": "python",
   "nbconvert_exporter": "python",
   "pygments_lexer": "ipython2",
   "version": "2.7.6"
  }
 },
 "nbformat": 4,
 "nbformat_minor": 5
}
