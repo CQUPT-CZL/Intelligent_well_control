{
 "cells": [
  {
   "cell_type": "code",
   "execution_count": 1,
   "outputs": [],
   "source": [
    "from Intelligent_well_control.src.models.utils.plt import PLT\n",
    "import numpy as np"
   ],
   "metadata": {
    "collapsed": false,
    "ExecuteTime": {
     "end_time": "2023-11-24T14:01:46.477738900Z",
     "start_time": "2023-11-24T14:01:46.448816300Z"
    }
   },
   "id": "7dbccbf1363506cd"
  },
  {
   "cell_type": "code",
   "execution_count": 2,
   "outputs": [],
   "source": [
    "Y_true = [0, 1, 0, 1, 0] * 100\n",
    "Y_pred = [0, 1, 1, 1, 0] * 100"
   ],
   "metadata": {
    "collapsed": false,
    "ExecuteTime": {
     "end_time": "2023-11-24T14:01:46.662023300Z",
     "start_time": "2023-11-24T14:01:46.646065Z"
    }
   },
   "id": "2387d4207ce6743a"
  },
  {
   "cell_type": "code",
   "execution_count": 3,
   "outputs": [
    {
     "name": "stdout",
     "output_type": "stream",
     "text": [
      "498 1\n"
     ]
    },
    {
     "data": {
      "text/plain": "<Figure size 1500x100 with 1 Axes>",
      "image/png": "[encoded data removed]"
     },
     "metadata": {},
     "output_type": "display_data"
    }
   ],
   "source": [
    "PLT().show2(Y_pred, Y_true, title='test', save_path=None)"
   ],
   "metadata": {
    "collapsed": false,
    "ExecuteTime": {
     "end_time": "2023-11-24T14:01:47.203580100Z",
     "start_time": "2023-11-24T14:01:47.034577100Z"
    }
   },
   "id": "e55fcff2a21992a7"
  },
  {
   "cell_type": "code",
   "execution_count": 10,
   "outputs": [],
   "source": [],
   "metadata": {
    "collapsed": false,
    "ExecuteTime": {
     "end_time": "2023-11-24T13:55:53.347780Z",
     "start_time": "2023-11-24T13:55:53.305211100Z"
    }
   },
   "id": "ce8d7402d3fd1bb5"
  },
  {
   "cell_type": "code",
   "execution_count": 4,
   "outputs": [
    {
     "ename": "ValueError",
     "evalue": "invalid literal for int() with base 10: '4 1 10 2 4 6 6 2 1 2 1 2 1 2 0 32'",
     "output_type": "error",
     "traceback": [
      "\u001B[1;31m---------------------------------------------------------------------------\u001B[0m",
      "\u001B[1;31mValueError\u001B[0m                                Traceback (most recent call last)",
      "Cell \u001B[1;32mIn[4], line 1\u001B[0m\n\u001B[1;32m----> 1\u001B[0m t \u001B[38;5;241m=\u001B[39m \u001B[38;5;28;43mint\u001B[39;49m\u001B[43m(\u001B[49m\u001B[38;5;28;43minput\u001B[39;49m\u001B[43m(\u001B[49m\u001B[43m)\u001B[49m\u001B[43m)\u001B[49m\n\u001B[0;32m      2\u001B[0m \u001B[38;5;28;01mwhile\u001B[39;00m t:\n\u001B[0;32m      3\u001B[0m     t \u001B[38;5;241m-\u001B[39m\u001B[38;5;241m=\u001B[39m \u001B[38;5;241m1\u001B[39m\n",
      "\u001B[1;31mValueError\u001B[0m: invalid literal for int() with base 10: '4 1 10 2 4 6 6 2 1 2 1 2 1 2 0 32'"
     ]
    }
   ],
   "source": [
    "t = int(input())\n",
    "while t:\n",
    "    t -= 1\n",
    "    n = int(input())\n",
    "    a = list(map(int, input().split()))\n",
    "    res = []\n",
    "    while True:\n",
    "        maxv = minv = a[0]\n",
    "        for i in range(n):\n",
    "            maxv = max(maxv, a[i])\n",
    "            minv = min(minv, a[i])\n",
    "            a[i] /= 2\n",
    "        if maxv == minv:\n",
    "            break\n",
    "        elif maxv - minv == 1:\n",
    "            res.append(1)\n",
    "            break\n",
    "        else:\n",
    "            res.append(0)\n",
    "            \n",
    "    print(len(res))\n",
    "    if len(res) <= n:\n",
    "        for i in res:\n",
    "            print(i, end=' ')\n",
    "    print()\n",
    "            "
   ],
   "metadata": {
    "collapsed": false,
    "ExecuteTime": {
     "end_time": "2023-11-25T05:03:01.776767300Z",
     "start_time": "2023-11-25T05:02:49.441252Z"
    }
   },
   "id": "770e2589da239da5"
  },
  {
   "cell_type": "code",
   "execution_count": 1,
   "outputs": [],
   "source": [
    "from queue import Queue\n",
    "a = [1, 2, 3]\n",
    "q = Queue(a)"
   ],
   "metadata": {
    "collapsed": false,
    "ExecuteTime": {
     "end_time": "2023-11-25T11:06:05.380272200Z",
     "start_time": "2023-11-25T11:06:05.365113Z"
    }
   },
   "id": "55d6dc302b58164c"
  },
  {
   "cell_type": "code",
   "execution_count": 2,
   "outputs": [
    {
     "ename": "TypeError",
     "evalue": "'>' not supported between instances of 'list' and 'int'",
     "output_type": "error",
     "traceback": [
      "\u001B[1;31m---------------------------------------------------------------------------\u001B[0m",
      "\u001B[1;31mTypeError\u001B[0m                                 Traceback (most recent call last)",
      "Cell \u001B[1;32mIn[2], line 1\u001B[0m\n\u001B[1;32m----> 1\u001B[0m \u001B[43mq\u001B[49m\u001B[38;5;241;43m.\u001B[39;49m\u001B[43mput\u001B[49m\u001B[43m(\u001B[49m\u001B[38;5;241;43m4\u001B[39;49m\u001B[43m)\u001B[49m\n",
      "File \u001B[1;32mD:\\sofeware\\Conda\\envs\\pytorch\\lib\\queue.py:134\u001B[0m, in \u001B[0;36mQueue.put\u001B[1;34m(self, item, block, timeout)\u001B[0m\n\u001B[0;32m    123\u001B[0m \u001B[38;5;250m\u001B[39m\u001B[38;5;124;03m'''Put an item into the queue.\u001B[39;00m\n\u001B[0;32m    124\u001B[0m \n\u001B[0;32m    125\u001B[0m \u001B[38;5;124;03mIf optional args 'block' is true and 'timeout' is None (the default),\u001B[39;00m\n\u001B[1;32m   (...)\u001B[0m\n\u001B[0;32m    131\u001B[0m \u001B[38;5;124;03mis ignored in that case).\u001B[39;00m\n\u001B[0;32m    132\u001B[0m \u001B[38;5;124;03m'''\u001B[39;00m\n\u001B[0;32m    133\u001B[0m \u001B[38;5;28;01mwith\u001B[39;00m \u001B[38;5;28mself\u001B[39m\u001B[38;5;241m.\u001B[39mnot_full:\n\u001B[1;32m--> 134\u001B[0m     \u001B[38;5;28;01mif\u001B[39;00m \u001B[38;5;28;43mself\u001B[39;49m\u001B[38;5;241;43m.\u001B[39;49m\u001B[43mmaxsize\u001B[49m\u001B[43m \u001B[49m\u001B[38;5;241;43m>\u001B[39;49m\u001B[43m \u001B[49m\u001B[38;5;241;43m0\u001B[39;49m:\n\u001B[0;32m    135\u001B[0m         \u001B[38;5;28;01mif\u001B[39;00m \u001B[38;5;129;01mnot\u001B[39;00m block:\n\u001B[0;32m    136\u001B[0m             \u001B[38;5;28;01mif\u001B[39;00m \u001B[38;5;28mself\u001B[39m\u001B[38;5;241m.\u001B[39m_qsize() \u001B[38;5;241m>\u001B[39m\u001B[38;5;241m=\u001B[39m \u001B[38;5;28mself\u001B[39m\u001B[38;5;241m.\u001B[39mmaxsize:\n",
      "\u001B[1;31mTypeError\u001B[0m: '>' not supported between instances of 'list' and 'int'"
     ]
    }
   ],
   "source": [
    "q.put(4)"
   ],
   "metadata": {
    "collapsed": false,
    "ExecuteTime": {
     "end_time": "2023-11-25T11:06:20.340069200Z",
     "start_time": "2023-11-25T11:06:19.587440400Z"
    }
   },
   "id": "6a3d13d94721037b"
  },
  {
   "cell_type": "code",
   "execution_count": null,
   "outputs": [],
   "source": [
    "q.get()"
   ],
   "metadata": {
    "collapsed": false,
    "ExecuteTime": {
     "start_time": "2023-11-25T11:04:48.285001900Z"
    }
   },
   "id": "b7e7fddae6c532eb"
  },
  {
   "cell_type": "code",
   "execution_count": null,
   "outputs": [],
   "source": [],
   "metadata": {
    "collapsed": false
   },
   "id": "6582b7cac60c06cd"
  }
 ],
 "metadata": {
  "kernelspec": {
   "display_name": "Python 3",
   "language": "python",
   "name": "python3"
  },
  "language_info": {
   "codemirror_mode": {
    "name": "ipython",
    "version": 2
   },
   "file_extension": ".py",
   "mimetype": "text/x-python",
   "name": "python",
   "nbconvert_exporter": "python",
   "pygments_lexer": "ipython2",
   "version": "2.7.6"
  }
 },
 "nbformat": 4,
 "nbformat_minor": 5
}
